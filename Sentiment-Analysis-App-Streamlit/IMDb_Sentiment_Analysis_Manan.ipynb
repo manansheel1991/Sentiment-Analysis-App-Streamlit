{
 "cells": [
  {
   "cell_type": "code",
   "execution_count": 1,
   "metadata": {
    "id": "c678618e"
   },
   "outputs": [],
   "source": [
    "import numpy as np\n",
    "import pandas as pd\n",
    "import seaborn as sns\n",
    "import matplotlib.pyplot as plt\n",
    "\n",
    "import string\n",
    "string.punctuation\n",
    "import nltk\n",
    "\n",
    "from sklearn.feature_extraction.text import CountVectorizer\n",
    "from sklearn.model_selection import train_test_split\n",
    "from sklearn.linear_model import LogisticRegression\n",
    "from sklearn.svm import LinearSVC\n",
    "from sklearn.metrics import classification_report, confusion_matrix, accuracy_score"
   ]
  },
  {
   "cell_type": "code",
   "execution_count": 2,
   "metadata": {
    "colab": {
     "base_uri": "https://localhost:8080/"
    },
    "id": "tb5UuIjtGvhM",
    "outputId": "72fca791-cb0e-47d4-e117-e34fe3ebdf25"
   },
   "outputs": [
    {
     "name": "stdout",
     "output_type": "stream",
     "text": [
      "Mounted at /content/drive\n"
     ]
    }
   ],
   "source": [
    "from google.colab import drive\n",
    "drive.mount('/content/drive')"
   ]
  },
  {
   "cell_type": "code",
   "execution_count": 5,
   "metadata": {
    "id": "24808c16"
   },
   "outputs": [],
   "source": [
    "train_df = pd.read_csv('Train.csv')\n"
   ]
  },
  {
   "cell_type": "code",
   "execution_count": 6,
   "metadata": {
    "colab": {
     "base_uri": "https://localhost:8080/",
     "height": 206
    },
    "id": "b3b4e022",
    "outputId": "92ea1562-5c66-4862-9f92-bc9064e35b87"
   },
   "outputs": [
    {
     "data": {
      "text/html": [
       "<div>\n",
       "<style scoped>\n",
       "    .dataframe tbody tr th:only-of-type {\n",
       "        vertical-align: middle;\n",
       "    }\n",
       "\n",
       "    .dataframe tbody tr th {\n",
       "        vertical-align: top;\n",
       "    }\n",
       "\n",
       "    .dataframe thead th {\n",
       "        text-align: right;\n",
       "    }\n",
       "</style>\n",
       "<table border=\"1\" class=\"dataframe\">\n",
       "  <thead>\n",
       "    <tr style=\"text-align: right;\">\n",
       "      <th></th>\n",
       "      <th>label</th>\n",
       "      <th>text</th>\n",
       "    </tr>\n",
       "  </thead>\n",
       "  <tbody>\n",
       "    <tr>\n",
       "      <th>0</th>\n",
       "      <td>0</td>\n",
       "      <td>I grew up (b. 1965) watching and loving the Th...</td>\n",
       "    </tr>\n",
       "    <tr>\n",
       "      <th>1</th>\n",
       "      <td>0</td>\n",
       "      <td>When I put this movie in my DVD player, and sa...</td>\n",
       "    </tr>\n",
       "    <tr>\n",
       "      <th>2</th>\n",
       "      <td>0</td>\n",
       "      <td>Why do people who do not know what a particula...</td>\n",
       "    </tr>\n",
       "    <tr>\n",
       "      <th>3</th>\n",
       "      <td>0</td>\n",
       "      <td>Even though I have great interest in Biblical ...</td>\n",
       "    </tr>\n",
       "    <tr>\n",
       "      <th>4</th>\n",
       "      <td>1</td>\n",
       "      <td>Im a die hard Dads Army fan and nothing will e...</td>\n",
       "    </tr>\n",
       "  </tbody>\n",
       "</table>\n",
       "</div>"
      ],
      "text/plain": [
       "   label                                               text\n",
       "0      0  I grew up (b. 1965) watching and loving the Th...\n",
       "1      0  When I put this movie in my DVD player, and sa...\n",
       "2      0  Why do people who do not know what a particula...\n",
       "3      0  Even though I have great interest in Biblical ...\n",
       "4      1  Im a die hard Dads Army fan and nothing will e..."
      ]
     },
     "execution_count": 6,
     "metadata": {},
     "output_type": "execute_result"
    }
   ],
   "source": [
    "train_df.head()"
   ]
  },
  {
   "cell_type": "code",
   "execution_count": 7,
   "metadata": {
    "id": "dbc3bcfb"
   },
   "outputs": [],
   "source": [
    "test_df = pd.read_csv('Test.csv')"
   ]
  },
  {
   "cell_type": "code",
   "execution_count": 8,
   "metadata": {
    "colab": {
     "base_uri": "https://localhost:8080/"
    },
    "id": "0e862d23",
    "outputId": "e950ad1d-4e9c-4e43-8a49-7bc9397bf20e"
   },
   "outputs": [
    {
     "name": "stdout",
     "output_type": "stream",
     "text": [
      "[nltk_data] Downloading package stopwords to /root/nltk_data...\n",
      "[nltk_data]   Unzipping corpora/stopwords.zip.\n"
     ]
    }
   ],
   "source": [
    "nltk.download('stopwords')\n",
    "from nltk.corpus import stopwords\n",
    "\n",
    "def text_cleaning(message):\n",
    "    message = message[:300]\n",
    "    punc_removed = [char for char in message if char not in string.punctuation]\n",
    "    punc_removed_join = ''.join(punc_removed)\n",
    "    punc_removed_join_clean = [ word.lower() for word in punc_removed_join.split() if word.lower() not in stopwords.words('english')]\n",
    "    punc_removed_join_clean = ' '.join(punc_removed_join_clean)\n",
    "    return punc_removed_join_clean "
   ]
  },
  {
   "cell_type": "code",
   "execution_count": 9,
   "metadata": {
    "id": "e37f4d13"
   },
   "outputs": [],
   "source": [
    "valid_df = pd.read_csv('Valid.csv')"
   ]
  },
  {
   "cell_type": "code",
   "execution_count": 10,
   "metadata": {
    "colab": {
     "base_uri": "https://localhost:8080/"
    },
    "id": "6bed9b01",
    "outputId": "46ba7b3d-c957-415f-cc01-da0f3362ad12"
   },
   "outputs": [
    {
     "data": {
      "text/plain": [
       "label    0\n",
       "text     0\n",
       "dtype: int64"
      ]
     },
     "execution_count": 10,
     "metadata": {},
     "output_type": "execute_result"
    }
   ],
   "source": [
    "train_df.isnull().sum()"
   ]
  },
  {
   "cell_type": "code",
   "execution_count": null,
   "metadata": {
    "id": "f85f551e"
   },
   "outputs": [],
   "source": [
    "X_train_df = train_df['text'].apply(text_cleaning)\n",
    "y_train_df = train_df['label'].values\n"
   ]
  },
  {
   "cell_type": "code",
   "execution_count": 16,
   "metadata": {
    "colab": {
     "base_uri": "https://localhost:8080/"
    },
    "id": "o7PEhx8fIssZ",
    "outputId": "9772948e-72b1-4e87-a51b-fdfbab15c1bc"
   },
   "outputs": [
    {
     "data": {
      "text/plain": [
       "(3999,)"
      ]
     },
     "execution_count": 16,
     "metadata": {},
     "output_type": "execute_result"
    }
   ],
   "source": [
    "X_train_df.shape\n",
    "y_train_df.shape\n"
   ]
  },
  {
   "cell_type": "code",
   "execution_count": 25,
   "metadata": {
    "id": "I336H_00Ou_v"
   },
   "outputs": [],
   "source": [
    "vectorizer = CountVectorizer()\n",
    "data_vectorizer = vectorizer.fit_transform(X_train_df)\n",
    "X_train = data_vectorizer\n",
    "y_train = y_train_df"
   ]
  },
  {
   "cell_type": "code",
   "execution_count": 36,
   "metadata": {
    "colab": {
     "base_uri": "https://localhost:8080/"
    },
    "id": "ih40ih_8I5pH",
    "outputId": "f65654aa-9268-40b5-87bb-76a18492b068"
   },
   "outputs": [
    {
     "data": {
      "text/plain": [
       "(3999, 5428)"
      ]
     },
     "execution_count": 36,
     "metadata": {},
     "output_type": "execute_result"
    }
   ],
   "source": [
    "X_train = X_train[:,:5428]\n",
    "X_train.shape"
   ]
  },
  {
   "cell_type": "code",
   "execution_count": 37,
   "metadata": {
    "colab": {
     "base_uri": "https://localhost:8080/"
    },
    "id": "zDr8nql_JCmG",
    "outputId": "702f66f7-3d7d-4a6b-e129-6efb532c0f27"
   },
   "outputs": [
    {
     "data": {
      "text/plain": [
       "(3999,)"
      ]
     },
     "execution_count": 37,
     "metadata": {},
     "output_type": "execute_result"
    }
   ],
   "source": [
    "y_train.shape"
   ]
  },
  {
   "cell_type": "code",
   "execution_count": 38,
   "metadata": {
    "colab": {
     "base_uri": "https://localhost:8080/"
    },
    "id": "bF17VejYOHVU",
    "outputId": "a72b4316-cd2a-490e-80d0-d48d4999e320"
   },
   "outputs": [
    {
     "data": {
      "text/plain": [
       "(499,)"
      ]
     },
     "execution_count": 38,
     "metadata": {},
     "output_type": "execute_result"
    }
   ],
   "source": [
    "X_test_df.shape"
   ]
  },
  {
   "cell_type": "code",
   "execution_count": 39,
   "metadata": {
    "id": "sKoalaglS33i"
   },
   "outputs": [],
   "source": [
    "X_test_df = test_df['text'].apply(text_cleaning)\n",
    "y_test = test_df['label'].values\n",
    "vectorizer_test = CountVectorizer()\n",
    "data_vectorizer_test = vectorizer_test.fit_transform(X_test_df)\n",
    "X_test = data_vectorizer_test"
   ]
  },
  {
   "cell_type": "markdown",
   "metadata": {
    "id": "QoTxyFRwTPWq"
   },
   "source": [
    "#Using LR"
   ]
  },
  {
   "cell_type": "code",
   "execution_count": 40,
   "metadata": {
    "colab": {
     "base_uri": "https://localhost:8080/"
    },
    "id": "f9626d66",
    "outputId": "22c57d1a-7076-468f-bce0-fd8c50ca88b1"
   },
   "outputs": [
    {
     "data": {
      "text/plain": [
       "LogisticRegression(C=1.0, class_weight=None, dual=False, fit_intercept=True,\n",
       "                   intercept_scaling=1, l1_ratio=None, max_iter=500,\n",
       "                   multi_class='auto', n_jobs=None, penalty='l2',\n",
       "                   random_state=None, solver='lbfgs', tol=0.0001, verbose=0,\n",
       "                   warm_start=False)"
      ]
     },
     "execution_count": 40,
     "metadata": {},
     "output_type": "execute_result"
    }
   ],
   "source": [
    "LR_Model = LogisticRegression(max_iter = 500)\n",
    "LR_Model.fit(X_train, y_train)"
   ]
  },
  {
   "cell_type": "code",
   "execution_count": 41,
   "metadata": {
    "colab": {
     "base_uri": "https://localhost:8080/"
    },
    "id": "_7hBmXYKNkTH",
    "outputId": "77737beb-5028-45fa-dad9-c0c975a74485"
   },
   "outputs": [
    {
     "data": {
      "text/plain": [
       "(499, 5428)"
      ]
     },
     "execution_count": 41,
     "metadata": {},
     "output_type": "execute_result"
    }
   ],
   "source": [
    "X_test.shape"
   ]
  },
  {
   "cell_type": "code",
   "execution_count": 42,
   "metadata": {
    "id": "vF0lEwFTOB_h"
   },
   "outputs": [],
   "source": [
    "y_pred_LR = LR_Model.predict(X_test)"
   ]
  },
  {
   "cell_type": "code",
   "execution_count": 43,
   "metadata": {
    "colab": {
     "base_uri": "https://localhost:8080/"
    },
    "id": "CCvSC82VWY8m",
    "outputId": "c14ec930-25e4-46f1-bab0-1d55244bd371"
   },
   "outputs": [
    {
     "data": {
      "text/plain": [
       "(499, 5428)"
      ]
     },
     "execution_count": 43,
     "metadata": {},
     "output_type": "execute_result"
    }
   ],
   "source": [
    "X_test.shape"
   ]
  },
  {
   "cell_type": "code",
   "execution_count": 44,
   "metadata": {
    "colab": {
     "base_uri": "https://localhost:8080/"
    },
    "id": "HSVu0eaNVUuA",
    "outputId": "e5c29a57-eecd-4575-cdb2-ada3e82ff590"
   },
   "outputs": [
    {
     "name": "stdout",
     "output_type": "stream",
     "text": [
      "              precision    recall  f1-score   support\n",
      "\n",
      "           0       0.56      0.61      0.58       266\n",
      "           1       0.50      0.45      0.48       233\n",
      "\n",
      "    accuracy                           0.54       499\n",
      "   macro avg       0.53      0.53      0.53       499\n",
      "weighted avg       0.53      0.54      0.53       499\n",
      "\n"
     ]
    }
   ],
   "source": [
    "print(classification_report(y_test,y_pred_LR))"
   ]
  },
  {
   "cell_type": "markdown",
   "metadata": {
    "id": "jTHwonrzTCkl"
   },
   "source": [
    "#Now using SVM"
   ]
  },
  {
   "cell_type": "code",
   "execution_count": 46,
   "metadata": {
    "colab": {
     "base_uri": "https://localhost:8080/"
    },
    "id": "66PhBA5bVqHs",
    "outputId": "c1235b38-1cf1-4296-862b-6c1f82338459"
   },
   "outputs": [
    {
     "data": {
      "text/plain": [
       "LinearSVC(C=1.0, class_weight=None, dual=True, fit_intercept=True,\n",
       "          intercept_scaling=1, loss='squared_hinge', max_iter=1000,\n",
       "          multi_class='ovr', penalty='l2', random_state=None, tol=0.0001,\n",
       "          verbose=0)"
      ]
     },
     "execution_count": 46,
     "metadata": {},
     "output_type": "execute_result"
    }
   ],
   "source": [
    "Lsvc =LinearSVC()\n",
    "Lsvc.fit(X_train, y_train)"
   ]
  },
  {
   "cell_type": "code",
   "execution_count": 47,
   "metadata": {
    "id": "H0aiF5GkS9LR"
   },
   "outputs": [],
   "source": [
    "y_pred_lsvc = Lsvc.predict(X_test)"
   ]
  },
  {
   "cell_type": "code",
   "execution_count": 48,
   "metadata": {
    "colab": {
     "base_uri": "https://localhost:8080/"
    },
    "id": "kshRm-UwT8rx",
    "outputId": "3f38f078-56cc-4151-d2f5-1c8f587608b9"
   },
   "outputs": [
    {
     "name": "stdout",
     "output_type": "stream",
     "text": [
      "              precision    recall  f1-score   support\n",
      "\n",
      "           0       0.54      0.62      0.58       266\n",
      "           1       0.48      0.39      0.43       233\n",
      "\n",
      "    accuracy                           0.52       499\n",
      "   macro avg       0.51      0.51      0.50       499\n",
      "weighted avg       0.51      0.52      0.51       499\n",
      "\n"
     ]
    }
   ],
   "source": [
    "print(classification_report(y_test,y_pred_lsvc))"
   ]
  },
  {
   "cell_type": "code",
   "execution_count": null,
   "metadata": {
    "id": "185xUUAxUDuB"
   },
   "outputs": [],
   "source": []
  }
 ],
 "metadata": {
  "accelerator": "GPU",
  "colab": {
   "name": "IMDb Sentiment Analysis Manan.ipynb",
   "provenance": []
  },
  "kernelspec": {
   "display_name": "Python 3",
   "language": "python",
   "name": "python3"
  },
  "language_info": {
   "codemirror_mode": {
    "name": "ipython",
    "version": 3
   },
   "file_extension": ".py",
   "mimetype": "text/x-python",
   "name": "python",
   "nbconvert_exporter": "python",
   "pygments_lexer": "ipython3",
   "version": "3.7.3"
  }
 },
 "nbformat": 4,
 "nbformat_minor": 5
}
